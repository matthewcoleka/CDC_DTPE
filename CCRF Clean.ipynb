{
 "cells": [
  {
   "cell_type": "code",
   "execution_count": 1,
   "id": "60576098",
   "metadata": {},
   "outputs": [],
   "source": [
    "#Dependencies\n",
    "import http.client\n",
    "import pandas as pd\n",
    "import json\n",
    "import numpy as np\n",
    "import datetime as dt\n",
    "import os\n",
    "import pyodbc\n",
    "import openpyxl\n",
    "import sqlalchemy as db"
   ]
  },
  {
   "cell_type": "code",
   "execution_count": 2,
   "id": "a629a519",
   "metadata": {},
   "outputs": [],
   "source": [
    "#Set Up Connections\n",
    "########## EpiInfo ##########\n",
    "conn = http.client.HTTPSConnection(\"epi-info-data-service.services.cdc.gov\")\n",
    "conn.set_debuglevel(1)\n",
    "headers = {\n",
    "    'authtoken': \"Xuv5NBkeYElE0ICxPdTTzw==\",\n",
    "    'accept': \"*/*\"\n",
    "    }\n",
    "########## PDL Database ##########\n",
    "#Connect to PDL database (SQL SERVER through ODBC)\n",
    "pdl_engine = db.create_engine(\"mssql+pyodbc://@Pertussis Lab Database\", use_setinputsizes=False)\n",
    "\n",
    "# #Initiate SQLAlchemy Metadata and table objects\n",
    "metadata = db.MetaData()\n",
    "ccrf_tbl = db.Table(\n",
    "    'CCRF', \n",
    "    metadata,\n",
    "    autoload_with=pdl_engine\n",
    ")\n",
    "# coryne = db.Table(\n",
    "#     'coryne', \n",
    "#     metadata,\n",
    "#     autoload_with=pdl_engine\n",
    "# )\n",
    "# input = db.Table(\n",
    "#     'Input', \n",
    "#     metadata,\n",
    "#     autoload_with=pdl_engine\n",
    "# )"
   ]
  },
  {
   "cell_type": "code",
   "execution_count": 3,
   "id": "7e06357d",
   "metadata": {},
   "outputs": [
    {
     "name": "stdout",
     "output_type": "stream",
     "text": [
      "send: b'POST /api/SurveyData/GetSurveyData?surveyid=0c8b2402-03a4-4599-824c-2bd3a0fe6ab6 HTTP/1.1\\r\\nHost: epi-info-data-service.services.cdc.gov\\r\\nAccept-Encoding: identity\\r\\nContent-Length: 0\\r\\nauthtoken: Xuv5NBkeYElE0ICxPdTTzw==\\r\\naccept: */*\\r\\n\\r\\n'\n",
      "reply: 'HTTP/1.1 200 OK\\r\\n'\n",
      "header: date: Fri, 12 Apr 2024 15:10:09 GMT\n",
      "header: content-type: text/plain; charset=utf-8\n",
      "header: server: Kestrel\n",
      "header: content-length: 800188\n",
      "header: set-cookie: 9765ae3492289acaddcb56a478ee7257=8027ed607f2c9c4fd5990a74250d53b9; path=/; HttpOnly; Secure; SameSite=None\n"
     ]
    }
   ],
   "source": [
    "#Pull in CCRF data\n",
    "conn.request(\"POST\", \"/api/SurveyData/GetSurveyData?surveyid=0c8b2402-03a4-4599-824c-2bd3a0fe6ab6\", headers=headers)\n",
    "\n",
    "res = conn.getresponse()\n",
    "r = res.read()\n",
    "data=json.loads(r.decode(\"utf-8\"))\n",
    "ccrf_raw=pd.DataFrame(data)\n",
    "pd.set_option('display.max_columns', 500)"
   ]
  },
  {
   "cell_type": "code",
   "execution_count": 4,
   "id": "c7a68c1a",
   "metadata": {},
   "outputs": [],
   "source": [
    "#PDL Data Clean\n",
    "#Select All PC IDs, add metadata\n",
    "input_query = \"SELECT * FROM INPUT WHERE country ='United States' and ID like 'PC%'\"\n",
    "input_df = pd.read_sql_query(input_query, pdl_engine)\n",
    "coryne_df = pd.read_sql_table('coryne', pdl_engine)\n",
    "coryne_ast_df = pd.read_sql_table('coryne_ast', pdl_engine)"
   ]
  },
  {
   "cell_type": "code",
   "execution_count": 5,
   "id": "50c08b31",
   "metadata": {},
   "outputs": [],
   "source": [
    "#Clean Input\n",
    "#input_df.columns\n",
    "input_keep_cols=[\n",
    "    'ID',\n",
    "    'acc_num',\n",
    "    'age_lab',\n",
    "    'age_units',\n",
    "    'daterec',\n",
    "    'datecol',\n",
    "    'state_lab',\n",
    "    'spec_type',\n",
    "    'spec_type_oth',\n",
    "    'clin_summary',\n",
    "    'organization'\n",
    "]\n",
    "input_final = input_df[input_keep_cols].sort_values('ID',ascending=False)\n",
    "#Clean Age\n",
    "input_final.loc[:,'age_lab'] = pd.to_numeric(input_final['age_lab'], errors='coerce').astype('float')\n",
    "#input_final.head()"
   ]
  },
  {
   "cell_type": "code",
   "execution_count": 6,
   "id": "839e30c7",
   "metadata": {},
   "outputs": [],
   "source": [
    "#Clean Coryne Results\n",
    "#coryne_df.columns\n",
    "coryne_keep_cols=[\n",
    "    'cdcid',\n",
    "    'toxigenic',\n",
    "    'cryne_ov_interp',\n",
    "    'coryne_pcr_interp',\n",
    "    'biotype'\n",
    "]\n",
    "coryne_clean = coryne_df[coryne_df['cdcid'].str.startswith('PC')][coryne_keep_cols].sort_values('cdcid',ascending=False)\n",
    "# Age\n",
    "\n",
    "#Culture Recode\n",
    "coryne_clean.loc[:,'cryne_ov_interp'] = coryne_clean['cryne_ov_interp'].map({\n",
    "    10:1,\n",
    "    11:2,\n",
    "    12:3,\n",
    "    13:4,\n",
    "    7:5,\n",
    "    8:6,\n",
    "    88:7,\n",
    "    9:999\n",
    "})\n",
    "\n",
    "#AST\n",
    "ast_keep_cols = [col for col in coryne_ast_df if (col.endswith('_int')) or (col=='cdcid')]\n",
    "#Merge Coryne with AST results\n",
    "coryne_final = pd.merge(left = coryne_clean, right=coryne_ast_df[ast_keep_cols], left_on='cdcid',right_on='cdcid',how='left')\n",
    "#coryne_clean.head()"
   ]
  },
  {
   "cell_type": "code",
   "execution_count": 7,
   "id": "66f79a79",
   "metadata": {},
   "outputs": [],
   "source": [
    "#Merge Lab Data\n",
    "pdl_df= pd.merge(left=input_final, right=coryne_final, left_on='ID',right_on='cdcid',how='left')\n",
    "pdl_final= pdl_df.drop(['cdcid'],axis=1).rename({'ID':'cdcid'},axis=1)\n",
    "#Rename Cols\n",
    "pdl_final = pdl_final.rename(columns={\n",
    "    \"cryne_ov_interp\":\"CDC_CULT\",\n",
    "    \"coryne_pcr_interp\":\"CDC_PCR\",\n",
    "    \"biotype\":\"CDC_BIOTYPE\",\n",
    "    \"toxigenic\":\"CDC_TOXIGENIC\",\n",
    "    \"daterec\":\"CDC_DATEREC\",\n",
    "    \"datecol\":\"CDC_DATECOL\",\n",
    "    \"coryne_pen_int\":\"CDC_PEN\",\n",
    "    \"coryne_mero_int\":\"CDC_MERO\",\n",
    "    \"coryne_vanc_int\":\"CDC_VANC\",\n",
    "    \"coryne_dapt_int\":\"CDC_DAPT\",\n",
    "    \"coryne_azit_int\":\"CDC_AZIT\",\n",
    "    \"coryne_eryt_int\":\"CDC_ERYT\",\n",
    "    \"coryne_clar_int\":\"CDC_CLAR\",\n",
    "    \"coryne_levo_int\":\"CDC_LEVO\",\n",
    "    \"coryne_oflo_int\":\"CDC_OFLO\",\n",
    "    \"coryne_clin_int\":\"CDC_CLIN\",\n",
    "    \"coryne_rifa_int\":\"CDC_RIFA\",\n",
    "    \"coryne_amox_int\":\"CDC_AMOX\"\n",
    "})\n",
    "\n",
    "#pdl_final.head()"
   ]
  },
  {
   "cell_type": "markdown",
   "id": "48f08af2",
   "metadata": {},
   "source": [
    " Clean CCRF - Remove dummy data (GAEXAMPLE), empty responses (state is null), records marked for removal (stateid = DELETE)"
   ]
  },
  {
   "cell_type": "code",
   "execution_count": 8,
   "id": "4e6aa22b",
   "metadata": {},
   "outputs": [],
   "source": [
    "ccrf_df=ccrf_raw[(ccrf_raw['RecordID'] != 'GAEXAMPLE') & (ccrf_raw['state'].notnull()) & (ccrf_raw['StateID'] != 'DELETE')]"
   ]
  },
  {
   "cell_type": "markdown",
   "id": "3a189259",
   "metadata": {},
   "source": [
    "Clean CCRF - Remove unused columns and rename some columns"
   ]
  },
  {
   "cell_type": "code",
   "execution_count": 9,
   "id": "778a6da1",
   "metadata": {},
   "outputs": [],
   "source": [
    "ccrf_df = ccrf_df.drop(['_ParentRecordId'],axis=1).rename({\n",
    "    \"_DateUpdated\":\"EI_DateUpdated\",\n",
    "    \"_Status\":\"EI_Status\",\n",
    "    \"GlobalRecordId\":\"EI_RecordID\"\n",
    "}, axis = 1)"
   ]
  },
  {
   "cell_type": "markdown",
   "id": "8573a042",
   "metadata": {},
   "source": [
    "Clean CCRF - Find duplicates with record IDs over length 2, and keep the record with complete status"
   ]
  },
  {
   "cell_type": "code",
   "execution_count": 10,
   "id": "e9e32e4b",
   "metadata": {},
   "outputs": [],
   "source": [
    "#Grab Record ids\n",
    "rids = ccrf_df['RecordID'].value_counts().to_frame().reset_index()\n",
    "#Select IDs that have length over 2 and have multiple entries\n",
    "dups = rids[(rids['RecordID'].str.len()>2) & (rids['count']>1)]['RecordID']\n",
    "#Find Global Record ID of duplicate ID that is listed as not 'Complete'\n",
    "dups_to_drop = ccrf_df[(ccrf_df['RecordID'].isin(dups)) & (ccrf_df['EI_Status']!='Complete')]['EI_RecordID']\n",
    "# Drop incomplete dup records   \n",
    "ccrf_df_final = ccrf_df[~ccrf_df['EI_RecordID'].isin(dups_to_drop)]"
   ]
  },
  {
   "cell_type": "code",
   "execution_count": 11,
   "id": "562a3127",
   "metadata": {},
   "outputs": [],
   "source": [
    "#Clean Variable Types\n",
    "#Booleans\n",
    "bool_cols = ccrf_df_final.select_dtypes(bool).columns\n",
    "ccrf_df_final.loc[:,bool_cols] = ccrf_df_final[bool_cols].astype(\"Int64\")\n"
   ]
  },
  {
   "cell_type": "markdown",
   "id": "e11b03eb",
   "metadata": {},
   "source": [
    "Dates"
   ]
  },
  {
   "cell_type": "code",
   "execution_count": 12,
   "id": "d5923101",
   "metadata": {},
   "outputs": [],
   "source": [
    "date_cols = ['AmoxDOI',\n",
    "'Arrival1',\n",
    "'Arrival2',\n",
    "'Arrival3',\n",
    "'AzithroDOI',\n",
    "'CephaDOI',\n",
    "'CiproDOI',\n",
    "'ClarithroDOI',\n",
    "'datecol1',\n",
    "'datecol2',\n",
    "'datecol3',\n",
    "'datelastvax',\n",
    "'datevax1',\n",
    "'datevax2',\n",
    "'datevax3',\n",
    "'datevax4',\n",
    "'datevax5',\n",
    "'datevax6',\n",
    "'datevax7',\n",
    "'datevax8',\n",
    "'Departure1',\n",
    "'Departure2',\n",
    "'Departure3',\n",
    "'ErythroDOI',\n",
    "'OtherDOI',\n",
    "'PenDOI',\n",
    "'ReportDate',\n",
    "'TetraDOI',\n",
    "'TrimetDOI',\n",
    "'UnkDOI',\n",
    "'VancoDOI']\n",
    "for col in date_cols:\n",
    "    ccrf_df_final.loc[:,col]=pd.to_datetime(ccrf_df_final[col],format=\"%Y-%m-%d\", errors='coerce').dt.date"
   ]
  },
  {
   "cell_type": "markdown",
   "id": "23e5574a",
   "metadata": {},
   "source": [
    "Convert from Char to Int"
   ]
  },
  {
   "cell_type": "code",
   "execution_count": 13,
   "id": "ebc270b6",
   "metadata": {},
   "outputs": [],
   "source": [
    "#AgeType\n",
    "ccrf_df_final.loc[:,'agetype'] = ccrf_df_final['agetype'].map({\n",
    "    \"Years\":1,\n",
    "    \"Months\":2,\n",
    "    \"Weeks\":3,\n",
    "    \"Days\":4\n",
    "}).astype(\"Int64\")\n",
    "#Sex\n",
    "ccrf_df_final.loc[:,'Sex'] = ccrf_df_final['Sex'].map({\n",
    "    \"Man\":1,\n",
    "    \"Woman\":2,\n",
    "    \"Transgender Woman\":3,\n",
    "    \"Transgender Man\":4,\n",
    "    \"Prefer not to answer\":5,\n",
    "    \"Unknown\":999\n",
    "}).astype(\"Int64\")\n",
    "#Submitter Species\n",
    "for i in range(1,4):\n",
    "    var = 'species'+str(i)\n",
    "    ccrf_df_final.loc[:,var] = ccrf_df_final[var].map({\n",
    "        \"C. diphtheriae\":1,\n",
    "        \"C. ulcerans\":2,\n",
    "        \"C. pseudotuberculosis\":3,\n",
    "        \"Corynebacterium spp.\":4,\n",
    "        \"Other\":5,\n",
    "        \"Unknown\":999\n",
    "    }).astype(\"Int64\")\n",
    "#YNU Cols\n",
    "ynu_cols = [\"AST\",\"CaseExposure\",\"Polymicrobial\",\"UnpasteurizedDairy\",\"vaccine\"]\n",
    "for col in ynu_cols:\n",
    "    ccrf_df_final.loc[:,col] = ccrf_df_final[col].map({\n",
    "        \"Yes\":1,\n",
    "        \"No\":2,\n",
    "        \"Unknown\":999\n",
    "    }).astype(\"Int64\")\n",
    "#Dispo\n",
    "ccrf_df_final.loc[:,'Dispo'] = ccrf_df_final['Dispo'].map({\n",
    "    \"Inpatient\":1,\n",
    "    \"Outpatient\":2,\n",
    "    \"Discharged\":3,\n",
    "    \"Deceased\":4,\n",
    "    \"Left Against Medical Advice (AMA)\":5,\n",
    "    \"Other\": 6,\n",
    "    \"Unknown\":999\n",
    "}).astype(\"Int64\")\n",
    "#Housing\n",
    "ccrf_df_final.loc[:,'Housing'] = ccrf_df_final['Housing'].map({\n",
    "    \"Not experiencing homelessness\":1,\n",
    "    \"Person experiencing homelessness\":2,\n",
    "    \"Previous history of homelessness\":3,\n",
    "    \"Unknown\":999\n",
    "}).astype(\"Int64\")\n",
    "#IVDU\n",
    "ccrf_df_final.loc[:,'IVDU'] = ccrf_df_final['IVDU'].map({\n",
    "    \"No drug use\":1,\n",
    "    \"Current IVDU\":2,\n",
    "    \"Previous history of IVDU\":3,\n",
    "    \"Other substance abuse (e.g., alcohol, non-IVDU substance use)\": 4,\n",
    "    \"Unknown\":999\n",
    "}).astype(\"Int64\")\n",
    "#Travel1\n",
    "ccrf_df_final.loc[:,'Travel1'] = ccrf_df_final['Travel1'].map({\n",
    "    \"No - No Domestic/International Travel\":1,\n",
    "    \"Yes - Domestic/Interstate Travel\":2,\n",
    "    \"Yes - International Travel\":3,\n",
    "    \"Yes - Both Domestic and International Travel\": 4,\n",
    "    \"Unknown\":999\n",
    "}).astype(\"Int64\")\n",
    "#Status\n",
    "ccrf_df_final.loc[:,'EI_Status'] = ccrf_df_final['EI_Status'].map({\n",
    "    \"Complete\":1,\n",
    "    \"In Process\":2,\n",
    "    \"In Progress (URL)\":3\n",
    "}).astype(\"Int64\")"
   ]
  },
  {
   "cell_type": "markdown",
   "id": "8d122784",
   "metadata": {},
   "source": [
    "Vaxtype data error"
   ]
  },
  {
   "cell_type": "code",
   "execution_count": 14,
   "id": "8d7ed174",
   "metadata": {},
   "outputs": [],
   "source": [
    "vtype_cols = ['vaxtype1','vaxtype2','vaxtype3','vaxtype4','vaxtype5','vaxtype6','vaxtype7','vaxtype8','typelastvax']\n",
    "for col in vtype_cols:\n",
    "    ccrf_df_final.loc[ccrf_df_final[col]=='1-DT or Td (e.g., Tenivac)',col]=1\n",
    "    ccrf_df_final.loc[ccrf_df_final[col]=='2-DTP',col]=2\n",
    "    ccrf_df_final.loc[ccrf_df_final[col]=='3-DTP-Hib',col]=3\n",
    "    ccrf_df_final.loc[ccrf_df_final[col]=='4-DTP-Hib-HepB',col]=4\n",
    "    ccrf_df_final.loc[ccrf_df_final[col]=='5-DTaP (e.g., Daptacel, Infanrix)',col]=5\n",
    "    ccrf_df_final.loc[ccrf_df_final[col]=='6-DTaP-IPV (e.g., Kinrix, Quadracel)',col]=6\n",
    "    ccrf_df_final.loc[ccrf_df_final[col]=='7-DTaP-IPV-Hep B (e.g., Pediarix)',col]=7\n",
    "    ccrf_df_final.loc[ccrf_df_final[col]=='8-DTaP-IPV-Hib (e.g., Pentacel)',col]=8\n",
    "    ccrf_df_final.loc[ccrf_df_final[col]=='9-DTaP-IPV-Hib-HepB (e.g., Vaxelis)',col]=9\n",
    "    ccrf_df_final.loc[ccrf_df_final[col]=='10-Tdap (e.g., Boostrix, Adacel)',col]=10\n",
    "    ccrf_df_final.loc[ccrf_df_final[col]=='11-Other (e.g. unspecified diphtheria toxoid-containing vaccine)',col]=11\n",
    "    ccrf_df_final.loc[ccrf_df_final[col]=='99-Unknown',col]=99\n",
    "    ccrf_df_final.loc[:, col] = pd.to_numeric(ccrf_df_final[col], errors='coerce',).astype(\"Int64\")"
   ]
  },
  {
   "cell_type": "code",
   "execution_count": 15,
   "id": "08d895bc",
   "metadata": {},
   "outputs": [],
   "source": [
    "#Antibiotic Duration\n",
    "dura_cols = ccrf_df_final.loc[:, ccrf_df_final.columns.str.endswith('Dura')].columns\n",
    "for col in dura_cols:\n",
    "    ccrf_df_final.loc[:, col] = pd.to_numeric(ccrf_df_final[col], errors='coerce',).astype(\"Int64\")"
   ]
  },
  {
   "cell_type": "markdown",
   "id": "295a4aa5",
   "metadata": {},
   "source": [
    "Merge CCRF and PDL - BY SPHLID"
   ]
  },
  {
   "cell_type": "code",
   "execution_count": 66,
   "id": "58ee7d88",
   "metadata": {},
   "outputs": [],
   "source": [
    "#Create copy for merging\n",
    "merged = ccrf_df_final.copy()\n",
    "#Intitate list to capture merged isolates\n",
    "iso_matched = []\n",
    "#Iterate through sphlid1-sphlid3 and merge on acc_num\n",
    "for i in range(1,4):\n",
    "    acc_num = 'acc_num'+str(i)\n",
    "    sphlid = 'sphlid'+str(i)\n",
    "    cdcid = 'cdcid'+str(i)\n",
    "    pdl_merge = pdl_final.add_suffix(str(i)).dropna(subset=[acc_num])\n",
    "    merged = pd.merge(left=merged, right=pdl_merge,left_on=sphlid,right_on=acc_num,how='left')\n",
    "    #Collect matched isolates\n",
    "    [iso_matched.append(cdcid) for cdcid in merged[merged[acc_num].notnull()][cdcid]]"
   ]
  },
  {
   "cell_type": "markdown",
   "id": "25e0130e",
   "metadata": {},
   "source": [
    "Merge CCRF and PDL - By Common attributes"
   ]
  },
  {
   "cell_type": "code",
   "execution_count": 67,
   "id": "1c485e87",
   "metadata": {},
   "outputs": [
    {
     "data": {
      "text/html": [
       "<div>\n",
       "<style scoped>\n",
       "    .dataframe tbody tr th:only-of-type {\n",
       "        vertical-align: middle;\n",
       "    }\n",
       "\n",
       "    .dataframe tbody tr th {\n",
       "        vertical-align: top;\n",
       "    }\n",
       "\n",
       "    .dataframe thead th {\n",
       "        text-align: right;\n",
       "    }\n",
       "</style>\n",
       "<table border=\"1\" class=\"dataframe\">\n",
       "  <thead>\n",
       "    <tr style=\"text-align: right;\">\n",
       "      <th></th>\n",
       "      <th>cdcid1</th>\n",
       "      <th>cdcid2</th>\n",
       "      <th>cdcid3</th>\n",
       "    </tr>\n",
       "  </thead>\n",
       "  <tbody>\n",
       "    <tr>\n",
       "      <th>20</th>\n",
       "      <td>PC2359</td>\n",
       "      <td>PC2358</td>\n",
       "      <td>NaN</td>\n",
       "    </tr>\n",
       "  </tbody>\n",
       "</table>\n",
       "</div>"
      ],
      "text/plain": [
       "    cdcid1  cdcid2 cdcid3\n",
       "20  PC2359  PC2358    NaN"
      ]
     },
     "execution_count": 67,
     "metadata": {},
     "output_type": "execute_result"
    }
   ],
   "source": [
    "# CCRF - Find unmatched records\n",
    "matched_ccrf = merged[merged['cdcid1'].notnull()]['EI_RecordID']\n",
    "epi_remain=ccrf_df_final[~merged['EI_RecordID'].isin(matched_ccrf).values].copy()\n",
    "# CCRF - Drop rows with missing data\n",
    "epi_remain = epi_remain.dropna(subset=['Age','state','datecol1'], how='any')\n",
    "# CCRF - Change cities back to states\n",
    "epi_remain['state'] =  epi_remain['state'].str.replace(\"LAC\",\"CA\")\n",
    "epi_remain['state'] =  epi_remain['state'].str.replace(\"NYC\",\"NY\")\n",
    "epi_remain['state'] =  epi_remain['state'].str.replace(\"PHI\",\"PA\")\n",
    "\n",
    "for i in range(1,4):\n",
    "    x=str(i)\n",
    "    # PDL - Find unmatched records and add suffix to concat to cdcid1\n",
    "    pdl_remain = pdl_final[~pdl_final['cdcid'].isin(iso_matched)].add_suffix(x)\n",
    "\n",
    "    # PDL - Drop rows with missing data\n",
    "    pdl_remain = pdl_remain.dropna(subset=['age_lab'+x,'state_lab'+x,'CDC_DATECOL'+x], how='any')\n",
    "\n",
    "    # Merge on State, Age, and Date Cx, first merge is an inner join, second and third merges are left joins (funky)\n",
    "    if i == 1:\n",
    "        secondary_merge = pd.merge(left = epi_remain, right=pdl_remain, left_on=['Age','state','datecol1'], right_on=['age_lab'+x,'state_lab'+x,'CDC_DATECOL'+x], how='inner')\n",
    "    else:\n",
    "        secondary_merge = pd.merge(left = secondary_merge, right=pdl_remain, left_on=['Age','state','datecol1'], right_on=['age_lab'+x,'state_lab'+x,'CDC_DATECOL'+x], how='left')\n",
    "    \n",
    "    # Drop duplicated rows, keep first match\n",
    "    secondary_merge=secondary_merge.drop_duplicates(subset=['EI_RecordID'], keep='first')\n",
    "\n",
    "    # Collect matched isolates from secondary merge\n",
    "    [iso_matched.append(cdcid) for cdcid in secondary_merge['cdcid'+x] if cdcid not in iso_matched]"
   ]
  },
  {
   "cell_type": "code",
   "execution_count": 70,
   "id": "3bf49829",
   "metadata": {},
   "outputs": [
    {
     "name": "stdout",
     "output_type": "stream",
     "text": [
      "PreDrop: 223\n",
      "PostDrop: 223\n"
     ]
    }
   ],
   "source": [
    "### Update primary merged df with secondary merged df\n",
    "#Change states back to cities\n",
    "secondary_merge.set_index('EI_RecordID', inplace=True)\n",
    "secondary_merge['state'].update(ccrf_df_final.set_index('EI_RecordID')['state'])\n",
    "\n",
    "# Update EI records from secondary merge \n",
    "merged.set_index('EI_RecordID', inplace=True)\n",
    "merged.update(secondary_merge,join='left', overwrite=True)\n",
    "\n",
    "# Reset Index\n",
    "merged=merged.reset_index(level=['EI_RecordID'])"
   ]
  },
  {
   "cell_type": "code",
   "execution_count": 89,
   "id": "db763a38",
   "metadata": {},
   "outputs": [],
   "source": [
    "# dups=merged[merged['cdcid1'].duplicated(keep=False)].sort_values('cdcid1')\n",
    "# dups.to_csv('dups.csv')"
   ]
  },
  {
   "cell_type": "markdown",
   "id": "8f40baf1",
   "metadata": {},
   "source": [
    "Add unmatched PDL isolates to merged dataframe"
   ]
  },
  {
   "cell_type": "code",
   "execution_count": 90,
   "id": "b385f425",
   "metadata": {},
   "outputs": [],
   "source": [
    "#Isolate remaining isolates and add suffix to concat to cdcid1\n",
    "pdl_remain = pdl_final[~pdl_final['cdcid'].isin(iso_matched)].add_suffix('1')\n",
    "#Add remaining isolates to merged df\n",
    "final_df = pd.concat([merged,pdl_remain])"
   ]
  },
  {
   "cell_type": "markdown",
   "id": "8628d217",
   "metadata": {},
   "source": [
    "Add System Variables"
   ]
  },
  {
   "cell_type": "code",
   "execution_count": 91,
   "id": "40c3d0eb",
   "metadata": {},
   "outputs": [],
   "source": [
    "#Add system variables\n",
    "\n",
    "#Source\n",
    "final_df.loc[final_df['cdcid1'].notna(),'system_source']='Lab Only'\n",
    "final_df.loc[final_df['EI_RecordID'].notna(),'system_source']='CCRF Only'\n",
    "final_df.loc[(final_df['EI_RecordID'].notna()) & (final_df['cdcid1'].notna()),'system_source']='Combined'\n",
    "#final_df['source_system'].value_counts()\n",
    "\n",
    "#Pipeline Run Datetime\n",
    "final_df['system_datetime']=dt.datetime.now()\n"
   ]
  },
  {
   "cell_type": "code",
   "execution_count": 95,
   "id": "fc278a0b",
   "metadata": {},
   "outputs": [
    {
     "data": {
      "text/plain": [
       "system_source\n",
       "Lab Only     1672\n",
       "Combined      196\n",
       "CCRF Only      27\n",
       "Name: count, dtype: int64"
      ]
     },
     "execution_count": 95,
     "metadata": {},
     "output_type": "execute_result"
    }
   ],
   "source": [
    "final_df['system_source'].value_counts()"
   ]
  },
  {
   "cell_type": "markdown",
   "id": "24ce1b60",
   "metadata": {},
   "source": [
    "Send email to Farrell of unmatched isolates"
   ]
  },
  {
   "cell_type": "code",
   "execution_count": null,
   "id": "9b8c4d4d",
   "metadata": {},
   "outputs": [],
   "source": [
    "#Isolate unmatched\n",
    "unmatch_df = final_df\n",
    "#Filter date and column criteria\n",
    "#Send email\n"
   ]
  },
  {
   "cell_type": "code",
   "execution_count": 93,
   "id": "5bb79922",
   "metadata": {},
   "outputs": [
    {
     "data": {
      "text/plain": [
       "131"
      ]
     },
     "execution_count": 93,
     "metadata": {},
     "output_type": "execute_result"
    }
   ],
   "source": [
    "#Delete All then Add daily?\n",
    "#How to handle historic data?\n",
    "final_df.to_sql(\"CCRF\", pdl_engine, if_exists='append',index=False, chunksize=75, method=None)"
   ]
  },
  {
   "cell_type": "code",
   "execution_count": 92,
   "id": "3af373fe",
   "metadata": {},
   "outputs": [],
   "source": [
    "stmt = db.delete(ccrf_tbl)\n",
    "with pdl_engine.begin() as conn:\n",
    "    #conn.execute(stmt)"
   ]
  },
  {
   "cell_type": "code",
   "execution_count": null,
   "id": "98613d2d",
   "metadata": {},
   "outputs": [],
   "source": []
  }
 ],
 "metadata": {
  "kernelspec": {
   "display_name": "Python 3 (ipykernel)",
   "language": "python",
   "name": "python3"
  },
  "language_info": {
   "codemirror_mode": {
    "name": "ipython",
    "version": 3
   },
   "file_extension": ".py",
   "mimetype": "text/x-python",
   "name": "python",
   "nbconvert_exporter": "python",
   "pygments_lexer": "ipython3",
   "version": "3.10.10"
  }
 },
 "nbformat": 4,
 "nbformat_minor": 5
}
