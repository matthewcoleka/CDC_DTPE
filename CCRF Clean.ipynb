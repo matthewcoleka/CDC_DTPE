{
 "cells": [
  {
   "cell_type": "code",
   "execution_count": 1,
   "id": "60576098",
   "metadata": {},
   "outputs": [],
   "source": [
    "#Dependencies\n",
    "import http.client\n",
    "import pandas as pd\n",
    "import json\n",
    "import numpy as np\n",
    "import datetime as dt\n",
    "import os\n",
    "import pyodbc\n",
    "import openpyxls\n",
    "import sqlalchemy as db"
   ]
  },
  {
   "cell_type": "code",
   "execution_count": 37,
   "id": "a629a519",
   "metadata": {},
   "outputs": [],
   "source": [
    "#Set Up Connections\n",
    "########## EpiInfo ##########\n",
    "conn = http.client.HTTPSConnection(\"epi-info-data-service.services.cdc.gov\")\n",
    "conn.set_debuglevel(1)\n",
    "headers = {\n",
    "    'authtoken': \"Xuv5NBkeYElE0ICxPdTTzw==\",\n",
    "    'accept': \"*/*\"\n",
    "    }\n",
    "########## PDL Database ##########\n",
    "#Connect to PDL database (SQL SERVER through ODBC)\n",
    "pdl_engine = db.create_engine(\"mssql+pyodbc://@Pertussis Lab Database\", use_setinputsizes=False)\n",
    "\n",
    "# #Initiate SQLAlchemy Metadata and table objects - not sure if needed\n",
    "# metadata = db.MetaData()\n",
    "# coryne = db.Table(\n",
    "#     'coryne', \n",
    "#     metadata,\n",
    "#     autoload_with=pdl_engine\n",
    "# )\n",
    "# input = db.Table(\n",
    "#     'Input', \n",
    "#     metadata,\n",
    "#     autoload_with=pdl_engine\n",
    "# )"
   ]
  },
  {
   "cell_type": "code",
   "execution_count": 38,
   "id": "7e06357d",
   "metadata": {},
   "outputs": [
    {
     "name": "stdout",
     "output_type": "stream",
     "text": [
      "send: b'POST /api/SurveyData/GetSurveyData?surveyid=0c8b2402-03a4-4599-824c-2bd3a0fe6ab6 HTTP/1.1\\r\\nHost: epi-info-data-service.services.cdc.gov\\r\\nAccept-Encoding: identity\\r\\nContent-Length: 0\\r\\nauthtoken: Xuv5NBkeYElE0ICxPdTTzw==\\r\\naccept: */*\\r\\n\\r\\n'\n",
      "reply: 'HTTP/1.1 200 OK\\r\\n'\n",
      "header: date: Wed, 13 Mar 2024 01:55:57 GMT\n",
      "header: content-type: text/plain; charset=utf-8\n",
      "header: server: Kestrel\n",
      "header: content-length: 678349\n",
      "header: set-cookie: 9765ae3492289acaddcb56a478ee7257=3e9c15f67d319b1f16d7a0d589e44bc0; path=/; HttpOnly; Secure; SameSite=None\n"
     ]
    }
   ],
   "source": [
    "#Pull in CCRF data\n",
    "conn.request(\"POST\", \"/api/SurveyData/GetSurveyData?surveyid=0c8b2402-03a4-4599-824c-2bd3a0fe6ab6\", headers=headers)\n",
    "\n",
    "res = conn.getresponse()\n",
    "r = res.read()\n",
    "data=json.loads(r.decode(\"utf-8\"))\n",
    "ccrf_raw=pd.DataFrame(data)\n",
    "pd.set_option('display.max_columns', 500)\n",
    "#df[df['_Status']=='Complete']"
   ]
  },
  {
   "cell_type": "code",
   "execution_count": 4,
   "id": "c7a68c1a",
   "metadata": {},
   "outputs": [],
   "source": [
    "#PDL Data Clean\n",
    "#Select All PC IDs, add metadata\n",
    "input_df = pd.read_sql_table('Input', pdl_engine)\n",
    "coryne_df = pd.read_sql_table('coryne', pdl_engine)\n",
    "coryne_ast_df = pd.read_sql_table('coryne_ast', pdl_engine)"
   ]
  },
  {
   "cell_type": "code",
   "execution_count": 30,
   "id": "50c08b31",
   "metadata": {},
   "outputs": [],
   "source": [
    "#Clean Input\n",
    "#input_df.columns\n",
    "input_keep_cols=['ID','acc_num','age_lab','age_units','daterec','datecol','state_lab','spec_type','spec_type_oth','clin_summary','organization']\n",
    "input_final = input_df[input_df['ID'].str.startswith('PC')][input_keep_cols].sort_values('ID',ascending=False)\n",
    "#input_clean.head()"
   ]
  },
  {
   "cell_type": "code",
   "execution_count": 24,
   "id": "839e30c7",
   "metadata": {},
   "outputs": [],
   "source": [
    "#Clean Coryne Results\n",
    "#coryne_df.columns\n",
    "coryne_keep_cols=['cdcid','toxigenic','cryne_ov_interp','coryne_pcr_interp','biotype','Coryne_biotype_oth']\n",
    "coryne_clean = coryne_df[coryne_df['cdcid'].str.startswith('PC')][coryne_keep_cols].sort_values('cdcid',ascending=False)\n",
    "#AST\n",
    "ast_keep_cols = [col for col in coryne_ast_df if (col.endswith('_int')) or (col=='cdcid')]\n",
    "#Merge Coryne with AST results\n",
    "coryne_final = pd.merge(left = coryne_clean, right=coryne_ast_df[ast_keep_cols], left_on='cdcid',right_on='cdcid',how='left')\n",
    "#coryne_clean.head()"
   ]
  },
  {
   "cell_type": "code",
   "execution_count": 31,
   "id": "66f79a79",
   "metadata": {},
   "outputs": [],
   "source": [
    "#Merge Lab Data\n",
    "pdl_df= pd.merge(left=input_final, right=coryne_final, left_on='ID',right_on='cdcid',how='left')\n",
    "pdl_final= pdl_df.drop(['cdcid'],axis=1).rename({'ID':'cdcid'},axis=1)\n",
    "\n",
    "#pdl_df.head()"
   ]
  },
  {
   "cell_type": "markdown",
   "id": "48f08af2",
   "metadata": {},
   "source": [
    " Clean CCRF - Remove dummy data (GAEXAMPLE), empty responses (state is null) and merge with PDL Data"
   ]
  },
  {
   "cell_type": "code",
   "execution_count": 95,
   "id": "4e6aa22b",
   "metadata": {},
   "outputs": [],
   "source": [
    "ccrf_df=ccrf_raw[(ccrf_raw['RecordID'] != 'GAEXAMPLE') & (ccrf_raw['state'].notnull())]"
   ]
  },
  {
   "cell_type": "markdown",
   "id": "8573a042",
   "metadata": {},
   "source": [
    "CLean CCRF - Find duplicates with record IDs over length 2, and keep the record with complete status"
   ]
  },
  {
   "cell_type": "code",
   "execution_count": 89,
   "id": "e9e32e4b",
   "metadata": {},
   "outputs": [],
   "source": [
    "#Grab Record ids\n",
    "rids = ccrf_df['RecordID'].value_counts().to_frame().reset_index()\n",
    "#Select IDs that have length over 2 and have multiple entries\n",
    "dups = rids[(rids['RecordID'].str.len()>2) & (rids['count']>1)]['RecordID']\n",
    "#Find Global Record ID of duplicate ID that is listed as not 'Complete'\n",
    "dups_to_drop = ccrf_df[(ccrf_df['RecordID'].isin(dups)) & (ccrf_df['_Status']!='Complete')]['GlobalRecordId']\n",
    "# Drop incomplete dup records   \n",
    "ccrf_df_final = ccrf_df[~ccrf_df['GlobalRecordId'].isin(dups_to_drop)]"
   ]
  },
  {
   "cell_type": "code",
   "execution_count": 97,
   "id": "58ee7d88",
   "metadata": {},
   "outputs": [
    {
     "name": "stderr",
     "output_type": "stream",
     "text": [
      "UsageError: Line magic function `%` not found.\n"
     ]
    }
   ],
   "source": [
    "#Merge PDL and CCRF Data - by SPHLID\n",
    "\n"
   ]
  },
  {
   "cell_type": "code",
   "execution_count": null,
   "id": "a74151ad",
   "metadata": {},
   "outputs": [],
   "source": [
    "#Remove used PCIDs from list"
   ]
  },
  {
   "cell_type": "code",
   "execution_count": 26,
   "id": "e3837285",
   "metadata": {},
   "outputs": [],
   "source": [
    "ccrf_df.to_csv(\"ccrf.csv\",index=False)"
   ]
  }
 ],
 "metadata": {
  "kernelspec": {
   "display_name": "Python 3 (ipykernel)",
   "language": "python",
   "name": "python3"
  },
  "language_info": {
   "codemirror_mode": {
    "name": "ipython",
    "version": 3
   },
   "file_extension": ".py",
   "mimetype": "text/x-python",
   "name": "python",
   "nbconvert_exporter": "python",
   "pygments_lexer": "ipython3",
   "version": "3.10.10"
  }
 },
 "nbformat": 4,
 "nbformat_minor": 5
}
