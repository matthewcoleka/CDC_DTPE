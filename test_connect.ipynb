{
 "cells": [
  {
   "cell_type": "code",
   "execution_count": 1,
   "id": "60576098",
   "metadata": {},
   "outputs": [
    {
     "name": "stdout",
     "output_type": "stream",
     "text": [
      "send: b'GET /api/SurveyData/GetDataset?surveyid=0c8b2402-03a4-4599-824c-2bd3a0fe6ab6 HTTP/1.1\\r\\nHost: epi-info-data-service.services.cdc.gov\\r\\nAccept-Encoding: identity\\r\\nauthtoken: Xuv5NBkeYElE0ICxPdTTzw==\\r\\n\\r\\n'\n",
      "reply: 'HTTP/1.1 200 OK\\r\\n'\n",
      "header: date: Wed, 13 Dec 2023 18:54:19 GMT\n",
      "header: content-type: text/plain; charset=utf-8\n",
      "header: server: Kestrel\n",
      "header: content-length: 207615\n",
      "header: set-cookie: 9765ae3492289acaddcb56a478ee7257=8039935a614fbff91c992920ec1af863; path=/; HttpOnly; Secure; SameSite=None\n",
      "header: cache-control: private\n"
     ]
    }
   ],
   "source": [
    "import http.client\n",
    "import pandas as pd\n",
    "import json\n",
    "\n",
    "conn = http.client.HTTPSConnection(\"epi-info-data-service.services.cdc.gov\")\n",
    "conn.set_debuglevel(1)\n",
    "headers = {\n",
    "    'authtoken': \"Xuv5NBkeYElE0ICxPdTTzw==\"\n",
    "    }\n",
    "\n",
    "conn.request(\"GET\", \"/api/SurveyData/GetDataset?surveyid=0c8b2402-03a4-4599-824c-2bd3a0fe6ab6\", headers=headers)\n",
    "\n",
    "res = conn.getresponse()\n",
    "r = res.read()\n",
    "data=json.loads(r.decode(\"utf-8\"))\n",
    "df=pd.DataFrame(data)"
   ]
  },
  {
   "cell_type": "code",
   "execution_count": 5,
   "id": "7e06357d",
   "metadata": {},
   "outputs": [
    {
     "name": "stdout",
     "output_type": "stream",
     "text": [
      "0     No - No Domestic/International Travel\n",
      "1                                       NaN\n",
      "2     No - No Domestic/International Travel\n",
      "3                                       NaN\n",
      "4     No - No Domestic/International Travel\n",
      "                      ...                  \n",
      "88                                      NaN\n",
      "89                                      NaN\n",
      "90    No - No Domestic/International Travel\n",
      "91    No - No Domestic/International Travel\n",
      "92                                      NaN\n",
      "Name: Travel1, Length: 93, dtype: object\n"
     ]
    }
   ],
   "source": [
    "pd.set_option('display.max_columns', 500)\n",
    "#df.head()\n",
    "#df[df['_Status']=='Complete']\n",
    "\n",
    "print(df[''])"
   ]
  },
  {
   "cell_type": "code",
   "execution_count": null,
   "id": "b43b5352",
   "metadata": {},
   "outputs": [],
   "source": []
  }
 ],
 "metadata": {
  "kernelspec": {
   "display_name": "Python 3 (ipykernel)",
   "language": "python",
   "name": "python3"
  },
  "language_info": {
   "codemirror_mode": {
    "name": "ipython",
    "version": 3
   },
   "file_extension": ".py",
   "mimetype": "text/x-python",
   "name": "python",
   "nbconvert_exporter": "python",
   "pygments_lexer": "ipython3",
   "version": "3.10.10"
  }
 },
 "nbformat": 4,
 "nbformat_minor": 5
}
